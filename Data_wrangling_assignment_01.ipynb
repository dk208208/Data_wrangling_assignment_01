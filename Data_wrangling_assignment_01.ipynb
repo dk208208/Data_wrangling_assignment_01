{
 "cells": [
  {
   "cell_type": "markdown",
   "id": "245945e5",
   "metadata": {},
   "source": [
    "**Question 1 :** Use numpy to generate array of 25 random numbers sampled from a standard normal distribution.<br>\n",
    "**Solution 1 :**"
   ]
  },
  {
   "cell_type": "code",
   "execution_count": 2,
   "id": "26493866",
   "metadata": {},
   "outputs": [
    {
     "name": "stdout",
     "output_type": "stream",
     "text": [
      "[0.04996977 0.22317238 0.21458393 0.26556107 0.48532946 0.16187742\n",
      " 0.41970995 0.47867733 0.99976145 0.88148571 0.53163915 0.4963354\n",
      " 0.37500875 0.57102084 0.87855771 0.14320297 0.0832768  0.87598993\n",
      " 0.57288351 0.23373851 0.58367232 0.72265378 0.79785594 0.37251271\n",
      " 0.3986205 ]\n"
     ]
    }
   ],
   "source": [
    "import numpy as np\n",
    "rand = np.random.rand(25)\n",
    "print(rand)"
   ]
  },
  {
   "cell_type": "markdown",
   "id": "8a9b8bd2",
   "metadata": {},
   "source": [
    "**Question 2 :** Create a random vector of size 30 and find the mean value.<br>\n",
    "**Solution 2 :**"
   ]
  },
  {
   "cell_type": "code",
   "execution_count": 3,
   "id": "50d3091b",
   "metadata": {},
   "outputs": [
    {
     "name": "stdout",
     "output_type": "stream",
     "text": [
      "Mean :  48.333333333333336\n"
     ]
    }
   ],
   "source": [
    "ran = np.random.randint(low=0,high=100,size=(30))\n",
    "print(\"Mean : \",np.mean(ran))"
   ]
  },
  {
   "cell_type": "markdown",
   "id": "dce71799",
   "metadata": {},
   "source": [
    "**Question 3 :** Insert 1 to 100 numbers in a numpy array and reshape it to 10x10 matrix.<br>\n",
    "**Solution 3 :**"
   ]
  },
  {
   "cell_type": "code",
   "execution_count": 3,
   "id": "356d943f",
   "metadata": {},
   "outputs": [
    {
     "name": "stdout",
     "output_type": "stream",
     "text": [
      "Matrix : [[  1   2   3   4   5   6   7   8   9  10]\n",
      " [ 11  12  13  14  15  16  17  18  19  20]\n",
      " [ 21  22  23  24  25  26  27  28  29  30]\n",
      " [ 31  32  33  34  35  36  37  38  39  40]\n",
      " [ 41  42  43  44  45  46  47  48  49  50]\n",
      " [ 51  52  53  54  55  56  57  58  59  60]\n",
      " [ 61  62  63  64  65  66  67  68  69  70]\n",
      " [ 71  72  73  74  75  76  77  78  79  80]\n",
      " [ 81  82  83  84  85  86  87  88  89  90]\n",
      " [ 91  92  93  94  95  96  97  98  99 100]] \n",
      "Size: 100\n"
     ]
    }
   ],
   "source": [
    "list1 = [i for i in range(1,101,1)]\n",
    "arr = np.array([list1])\n",
    "re_shape = np.reshape(arr,(10,10))\n",
    "print(f\"Matrix : {re_shape}\",f\"\\nSize: {re_shape.size}\")"
   ]
  },
  {
   "cell_type": "markdown",
   "id": "647e2468",
   "metadata": {},
   "source": [
    "**Question 4 :** Create a 10x10 array with random values and find the minimum and maximum values.<br>\n",
    "**Solution 4 :**"
   ]
  },
  {
   "cell_type": "code",
   "execution_count": 4,
   "id": "1b86c3f4",
   "metadata": {},
   "outputs": [
    {
     "name": "stdout",
     "output_type": "stream",
     "text": [
      "[[ 55  34  60   6  26  52  52  23  96  36]\n",
      " [ 48  92  69  75  94  54  94  13  16  76]\n",
      " [ 47  14 100  96   4  38  64  43  61  65]\n",
      " [ 28  72  96  80  51  48  53  25  60  43]\n",
      " [ 89  73  89  82  20  75  66  88   7  65]\n",
      " [ 11  76  32  39  40  35  33  44  17  76]\n",
      " [ 43  79   7  63  87  91  39  98  54  94]\n",
      " [ 41  44   8  41  86  60  15  50  22  61]\n",
      " [ 39  31  27  19  37  55  49  12  79  84]\n",
      " [ 24  49  47   0  53   4  19  85  21  20]]\n",
      "Min : 0\n",
      "Max : 100\n"
     ]
    }
   ],
   "source": [
    "ran_val = np.random.randint(0,101,(10,10))\n",
    "print(ran_val)\n",
    "print(f\"Min : {np.min(ran_val)}\\nMax : {np.max(ran_val)}\")"
   ]
  },
  {
   "cell_type": "markdown",
   "id": "30168404",
   "metadata": {},
   "source": [
    "**Question 5 :** Find Dot product of two arrays\n",
    "                 f = np.array([1,2])\n",
    "                 g = np.array([4,5])<br>\n",
    "**Solution 5 :**                 \n",
    "                 "
   ]
  },
  {
   "cell_type": "code",
   "execution_count": 5,
   "id": "401517ba",
   "metadata": {},
   "outputs": [
    {
     "name": "stdout",
     "output_type": "stream",
     "text": [
      "Dot Product :  14\n"
     ]
    }
   ],
   "source": [
    "f = np.array([1,2])\n",
    "g = np.array([4,5])\n",
    "print(\"Dot Product : \", np.dot(f,g))"
   ]
  },
  {
   "cell_type": "markdown",
   "id": "9b8017d9",
   "metadata": {},
   "source": [
    "**Question 6 :** Concatenate following arrays along axis=0<br>\n",
    "                 Ans: x=np.array([[1,2],[3,4]])<br>\n",
    "                 y=np.array([[5,6]])<br>\n",
    "**Solution 6 :**                 "
   ]
  },
  {
   "cell_type": "code",
   "execution_count": 6,
   "id": "1f2aa77d",
   "metadata": {},
   "outputs": [
    {
     "name": "stdout",
     "output_type": "stream",
     "text": [
      "Concatenate following arrays along axis=0 : \n",
      " [[1 2]\n",
      " [3 4]\n",
      " [5 6]]\n"
     ]
    }
   ],
   "source": [
    "x=np.array([[1,2],[3,4]])\n",
    "y=np.array([[5,6]])\n",
    "print(\"Concatenate following arrays along axis=0 : \\n\",np.concatenate((x,y),axis = 0))"
   ]
  },
  {
   "cell_type": "markdown",
   "id": "efa67de6",
   "metadata": {},
   "source": [
    "**Question 7 :** How to get the common items between two python numpy arrays?<br>\n",
    "                 a = np.array([1,2,3,2,3,4,3,4,5,6])<br>\n",
    "                 b = np.array([7,2,10,2,7,4,9,4,9,8])<br>\n",
    "**Solution 7 :**                 "
   ]
  },
  {
   "cell_type": "code",
   "execution_count": 7,
   "id": "747d69ff",
   "metadata": {},
   "outputs": [
    {
     "name": "stdout",
     "output_type": "stream",
     "text": [
      "Common Items :  [2 4]\n"
     ]
    }
   ],
   "source": [
    "a = np.array([1,2,3,2,3,4,3,4,5,6])\n",
    "b = np.array([7,2,10,2,7,4,9,4,9,8])\n",
    "print(\"Common Items : \" , np.intersect1d(a,b))"
   ]
  },
  {
   "cell_type": "markdown",
   "id": "e039227a",
   "metadata": {},
   "source": [
    "**Question 8 :** Sort the numpy array:<br>\n",
    "                 arr = np.array([10,5,8,4,7,2,3,1])<br>\n",
    "**Solution 8 :**"
   ]
  },
  {
   "cell_type": "code",
   "execution_count": 8,
   "id": "76e1e59d",
   "metadata": {},
   "outputs": [
    {
     "name": "stdout",
     "output_type": "stream",
     "text": [
      "sorted array :  [ 1  2  3  4  5  7  8 10]\n"
     ]
    }
   ],
   "source": [
    "arr = np.array([10,5,8,4,7,2,3,1])\n",
    "arr.sort()\n",
    "print(\"sorted array : \",  arr)"
   ]
  }
 ],
 "metadata": {
  "kernelspec": {
   "display_name": "Python 3",
   "language": "python",
   "name": "python3"
  },
  "language_info": {
   "codemirror_mode": {
    "name": "ipython",
    "version": 3
   },
   "file_extension": ".py",
   "mimetype": "text/x-python",
   "name": "python",
   "nbconvert_exporter": "python",
   "pygments_lexer": "ipython3",
   "version": "3.9.5"
  }
 },
 "nbformat": 4,
 "nbformat_minor": 5
}
